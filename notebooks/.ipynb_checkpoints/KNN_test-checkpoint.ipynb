{
 "cells": [
  {
   "cell_type": "code",
   "execution_count": 51,
   "metadata": {},
   "outputs": [],
   "source": [
    "# Import Basics\n",
    "import numpy as np \n",
    "import pandas as pd\n",
    "import matplotlib.pyplot as plt\n",
    "import seaborn as sns\n",
    "import sys\n",
    "# ~/dsi/capstones/cap_2/\n",
    "\n",
    "# Import modeling tools\n",
    "from sklearn.metrics import pairwise_distances\n",
    "from scipy.spatial import distance\n",
    "from sklearn.preprocessing import MinMaxScaler\n",
    "from sklearn.preprocessing import StandardScaler\n",
    "from sklearn.neighbors import KNeighborsClassifier\n",
    "from sklearn.metrics import classification_report, confusion_matrix\n"
   ]
  },
  {
   "cell_type": "code",
   "execution_count": 52,
   "metadata": {},
   "outputs": [],
   "source": [
    "# Load Data\n",
    "df_train = pd.read_csv('~/dsi/capstones/cap_2/data/forest-cover-competition/train.csv')\n",
    "# df_test = pd.read_csv('~/dsi/capstones/cap_2/data/forest-cover-competition/test.csv')\n",
    "\n",
    "# Remove Competition IDs\n",
    "df_train.drop(axis=0, columns='Id', inplace=True)\n",
    "# df_test.drop(axis=0, columns='Id', inplace=True)\n",
    "\n",
    "df_continuous = df_train.iloc[:, 0:10]\n",
    "\n",
    "df_toy = df_continuous[:1000]"
   ]
  },
  {
   "cell_type": "code",
   "execution_count": 53,
   "metadata": {},
   "outputs": [],
   "source": [
    "min_max_scaler = MinMaxScaler()\n",
    "\n",
    "df_max_min = min_max_scaler.fit_transform(df_toy)\n",
    "\n",
    "matrix_max_min = pairwise_distances(df_max_min, metric = 'euclidean')"
   ]
  },
  {
   "cell_type": "code",
   "execution_count": 54,
   "metadata": {},
   "outputs": [],
   "source": [
    "std_scaler = StandardScaler()\n",
    "\n",
    "df_max_min = std_scaler.fit_transform(df_toy)\n",
    "\n",
    "matrix_max_min = pairwise_distances(df_max_min, metric = 'euclidean')"
   ]
  },
  {
   "cell_type": "code",
   "execution_count": 55,
   "metadata": {},
   "outputs": [],
   "source": [
    "X = df_train.iloc[:,:-1]\n",
    "\n",
    "y = df_train.iloc[:,-1]\n"
   ]
  },
  {
   "cell_type": "code",
   "execution_count": 56,
   "metadata": {},
   "outputs": [],
   "source": [
    "\n",
    "seed = 0\n",
    "\n",
    "from sklearn.model_selection import train_test_split\n",
    "X_train, X_test, y_train, y_test = train_test_split(X, y, test_size=.2, random_state=seed)\n"
   ]
  },
  {
   "cell_type": "code",
   "execution_count": 57,
   "metadata": {},
   "outputs": [],
   "source": [
    "min_max_scaler = MinMaxScaler()\n",
    "\n",
    "df_max_min = min_max_scaler.fit_transform(X_train)\n",
    "\n",
    "matrix_max_min = pairwise_distances(df_max_min, metric = 'euclidean')"
   ]
  },
  {
   "cell_type": "code",
   "execution_count": 58,
   "metadata": {},
   "outputs": [],
   "source": [
    "std_scaler = StandardScaler()\n",
    "\n",
    "df_max_min = std_scaler.fit_transform(X_train)\n",
    "\n",
    "matrix_max_min = pairwise_distances(df_max_min, metric = 'euclidean')"
   ]
  },
  {
   "cell_type": "code",
   "execution_count": 59,
   "metadata": {},
   "outputs": [
    {
     "data": {
      "text/plain": [
       "KNeighborsClassifier(algorithm='auto', leaf_size=30, metric='minkowski',\n",
       "                     metric_params=None, n_jobs=-2, n_neighbors=7, p=2,\n",
       "                     weights='uniform')"
      ]
     },
     "execution_count": 59,
     "metadata": {},
     "output_type": "execute_result"
    }
   ],
   "source": [
    "\n",
    "knn_classifier = KNeighborsClassifier(n_neighbors=7, n_jobs=-2)\n",
    "\n",
    "knn_classifier.fit(X_train, y_train)"
   ]
  },
  {
   "cell_type": "code",
   "execution_count": 60,
   "metadata": {},
   "outputs": [],
   "source": [
    "y_pred = classifier.predict(X_test)"
   ]
  },
  {
   "cell_type": "code",
   "execution_count": 61,
   "metadata": {},
   "outputs": [
    {
     "data": {
      "text/plain": [
       "array([1, 2, 3, 4, 5, 6, 7])"
      ]
     },
     "execution_count": 61,
     "metadata": {},
     "output_type": "execute_result"
    }
   ],
   "source": [
    "y_pred.shape\n",
    "y_pred\n",
    "np.unique(y_pred)"
   ]
  },
  {
   "cell_type": "code",
   "execution_count": 62,
   "metadata": {},
   "outputs": [
    {
     "data": {
      "text/plain": [
       "0.8519345238095238"
      ]
     },
     "execution_count": 62,
     "metadata": {},
     "output_type": "execute_result"
    }
   ],
   "source": [
    "train_accuracy = knn_classifier.score(X_train, y_train)\n",
    "train_accuracy"
   ]
  },
  {
   "cell_type": "code",
   "execution_count": 63,
   "metadata": {},
   "outputs": [
    {
     "data": {
      "text/plain": [
       "0.792989417989418"
      ]
     },
     "execution_count": 63,
     "metadata": {},
     "output_type": "execute_result"
    }
   ],
   "source": [
    "test_accuracy = knn_classifier.score(X_test, y_test) \n",
    "test_accuracy"
   ]
  },
  {
   "cell_type": "code",
   "execution_count": 64,
   "metadata": {},
   "outputs": [
    {
     "data": {
      "text/plain": [
       "array([[302,  76,   0,   0,  20,   1,  40],\n",
       "       [ 87, 245,  15,   0,  39,  17,   8],\n",
       "       [  0,   6, 323,  33,   9,  47,   0],\n",
       "       [  0,   0,   9, 420,   0,   9,   0],\n",
       "       [  1,  13,   6,   0, 405,   3,   0],\n",
       "       [  1,  10,  43,  22,   9, 386,   0],\n",
       "       [ 12,   2,   0,   0,   0,   0, 405]])"
      ]
     },
     "execution_count": 64,
     "metadata": {},
     "output_type": "execute_result"
    }
   ],
   "source": [
    "confusion_matrix(y_test, y_pred)\n"
   ]
  },
  {
   "cell_type": "code",
   "execution_count": 65,
   "metadata": {},
   "outputs": [
    {
     "name": "stdout",
     "output_type": "stream",
     "text": [
      "              precision    recall  f1-score   support\n",
      "\n",
      "           1       0.75      0.69      0.72       439\n",
      "           2       0.70      0.60      0.64       411\n",
      "           3       0.82      0.77      0.79       418\n",
      "           4       0.88      0.96      0.92       438\n",
      "           5       0.84      0.95      0.89       428\n",
      "           6       0.83      0.82      0.83       471\n",
      "           7       0.89      0.97      0.93       419\n",
      "\n",
      "    accuracy                           0.82      3024\n",
      "   macro avg       0.82      0.82      0.82      3024\n",
      "weighted avg       0.82      0.82      0.82      3024\n",
      "\n"
     ]
    }
   ],
   "source": [
    "print(classification_report(y_test, y_pred))"
   ]
  },
  {
   "cell_type": "code",
   "execution_count": null,
   "metadata": {},
   "outputs": [],
   "source": []
  }
 ],
 "metadata": {
  "kernelspec": {
   "display_name": "Python 3",
   "language": "python",
   "name": "python3"
  },
  "language_info": {
   "codemirror_mode": {
    "name": "ipython",
    "version": 3
   },
   "file_extension": ".py",
   "mimetype": "text/x-python",
   "name": "python",
   "nbconvert_exporter": "python",
   "pygments_lexer": "ipython3",
   "version": "3.7.3"
  }
 },
 "nbformat": 4,
 "nbformat_minor": 4
}
